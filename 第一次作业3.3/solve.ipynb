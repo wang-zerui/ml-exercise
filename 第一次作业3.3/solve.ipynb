{
 "cells": [
  {
   "cell_type": "markdown",
   "metadata": {},
   "source": [
    "## 引入库"
   ]
  },
  {
   "cell_type": "code",
   "execution_count": 153,
   "metadata": {},
   "outputs": [],
   "source": [
    "import matplotlib.pyplot as plt\n",
    "import numpy as np"
   ]
  },
  {
   "cell_type": "markdown",
   "metadata": {},
   "source": [
    "## 读取数据"
   ]
  },
  {
   "cell_type": "code",
   "execution_count": 154,
   "metadata": {},
   "outputs": [
    {
     "data": {
      "text/plain": [
       "array([[ 1.    ,  0.697 ,  0.46  ,  1.    ],\n",
       "       [ 2.    ,  0.774 ,  0.376 ,  1.    ],\n",
       "       [ 3.    ,  0.634 ,  0.264 ,  1.    ],\n",
       "       [ 4.    ,  0.608 ,  0.318 ,  1.    ],\n",
       "       [ 5.    ,  0.556 ,  0.215 ,  1.    ],\n",
       "       [ 6.    ,  0.403 ,  0.237 ,  1.    ],\n",
       "       [ 7.    ,  0.481 ,  0.149 ,  1.    ],\n",
       "       [ 8.    ,  0.437 ,  0.211 ,  1.    ],\n",
       "       [ 9.    ,  0.666 ,  0.091 ,  0.    ],\n",
       "       [10.    ,  0.243 ,  0.0267,  0.    ],\n",
       "       [11.    ,  0.245 ,  0.057 ,  0.    ],\n",
       "       [12.    ,  0.343 ,  0.099 ,  0.    ],\n",
       "       [13.    ,  0.639 ,  0.161 ,  0.    ],\n",
       "       [14.    ,  0.657 ,  0.198 ,  0.    ],\n",
       "       [15.    ,  0.36  ,  0.37  ,  0.    ],\n",
       "       [16.    ,  0.593 ,  0.042 ,  0.    ],\n",
       "       [17.    ,  0.719 ,  0.103 ,  0.    ]])"
      ]
     },
     "execution_count": 154,
     "metadata": {},
     "output_type": "execute_result"
    }
   ],
   "source": [
    "data_file = './watermelon3.0alpha.csv'\n",
    "data = np.loadtxt(data_file, skiprows=1, delimiter=\",\")\n",
    "data"
   ]
  },
  {
   "cell_type": "code",
   "execution_count": null,
   "metadata": {},
   "outputs": [],
   "source": [
    "X = data[:,1:3] \n",
    "y = data[:,3:]\n",
    "X0 = np.ones(np.shape(X)[0])\n",
    "X = np.c_[X, X0.T]"
   ]
  },
  {
   "cell_type": "code",
   "execution_count": 167,
   "metadata": {},
   "outputs": [],
   "source": [
    "import xlrd\n",
    "workbook = xlrd.open_workbook(\"3.0alpha.xls\")\n",
    "sheet = workbook.sheet_by_name(\"Sheet1\")\n",
    "X1 = np.array(sheet.row_values(0))\n",
    "X2 = np.array(sheet.row_values(1))\n",
    "\n",
    "#this is the extension of x\n",
    "X3 = np.array(sheet.row_values(2))\n",
    "y = np.array(sheet.row_values(3))\n",
    "X = np.vstack([X1, X2, X3]).T\n",
    "y = y.reshape(-1, 1)"
   ]
  },
  {
   "cell_type": "code",
   "execution_count": 168,
   "metadata": {},
   "outputs": [
    {
     "data": {
      "image/png": "[encoded data removed]",
      "text/plain": [
       "<Figure size 432x288 with 1 Axes>"
      ]
     },
     "metadata": {
      "needs_background": "light"
     },
     "output_type": "display_data"
    }
   ],
   "source": [
    "for i in range(X.shape[0]):\n",
    "    if y[i, 0] == 0:\n",
    "        plt.plot(X[i,0], X[i,1], 'r+')\n",
    "    else:\n",
    "        plt.plot(X[i,0], X[i,1], 'bo')"
   ]
  },
  {
   "cell_type": "markdown",
   "metadata": {},
   "source": [
    "## 牛顿法"
   ]
  },
  {
   "cell_type": "code",
   "execution_count": 158,
   "metadata": {},
   "outputs": [],
   "source": [
    "def sigmoid(x):\n",
    "    \"\"\"\n",
    "    Sigmoid function.\n",
    "    Input:\n",
    "        x:np.array\n",
    "    Return:\n",
    "        y: the same shape with x\n",
    "    \"\"\"\n",
    "    y =1.0 / ( 1 + np.exp(-x))\n",
    "    return y"
   ]
  },
  {
   "cell_type": "code",
   "execution_count": 159,
   "metadata": {},
   "outputs": [],
   "source": [
    "def newton(X, y):\n",
    "    \"\"\"\n",
    "    Input:\n",
    "        X: np.array with shape [N, 3]. Input.\n",
    "        y: np.array with shape [N, 1]. Label.\n",
    "    Return:\n",
    "        beta: np.array with shape [1, 3]. Optimal params with newton method\n",
    "    \"\"\"\n",
    "    N = X.shape[0]\n",
    "    #initialization\n",
    "    beta = np.ones((1, 3))\n",
    "\n",
    "    #shape [N, 1]\n",
    "    z = X.dot(beta.T)\n",
    "\n",
    "    #log-likehood\n",
    "    old_l = 0\n",
    "    new_l = np.sum(-y*z + np.log( 1+np.exp(z) )) #计算对数似然的代价函数值\n",
    "    # iters是迭代次数\n",
    "    iters = 0\n",
    "    while( np.abs(old_l - new_l) > 1e-5):\n",
    "        #shape [N, 1]\n",
    "        p1 = np.exp(z) / (1 + np.exp(z))\n",
    "\n",
    "        #shape [N, N]\n",
    "        p = np.diag((p1 * (1-p1)).reshape(N))\n",
    "\n",
    "        #shape [1, 3]\n",
    "        first_order = -np.sum(X * (y - p1), 0, keepdims=True)\n",
    "        #shape [3, 3]\n",
    "        second_order = X.T .dot(p).dot(X)\n",
    "\n",
    "        #update\n",
    "        beta -= first_order.dot(np.linalg.inv(second_order))\n",
    "        z = X.dot(beta.T)\n",
    "        old_l = new_l\n",
    "        new_l = np.sum(-y*z + np.log( 1+np.exp(z) ) )\n",
    "\n",
    "        iters += 1\n",
    "    print(\"牛顿法收敛的迭代次数iters: \", iters)\n",
    "    print('牛顿法收敛后对应的代价函数值: ', new_l)\n",
    "    return beta"
   ]
  },
  {
   "cell_type": "code",
   "execution_count": 169,
   "metadata": {},
   "outputs": [
    {
     "name": "stdout",
     "output_type": "stream",
     "text": [
      "牛顿法收敛的迭代次数iters:  6\n",
      "牛顿法收敛后对应的代价函数值:  8.683660584232863\n"
     ]
    }
   ],
   "source": [
    "beta1 = newton(X, y)\n",
    "newton_left = -( beta1[0, 0]*0.1 + beta1[0, 2] ) / beta1[0, 1]\n",
    "newton_right = -( beta1[0, 0]*0.9 + beta1[0, 2] ) / beta1[0, 1] "
   ]
  },
  {
   "cell_type": "code",
   "execution_count": 170,
   "metadata": {},
   "outputs": [
    {
     "data": {
      "text/plain": [
       "array([[ 3.15832966, 12.52119579, -4.42886451]])"
      ]
     },
     "execution_count": 170,
     "metadata": {},
     "output_type": "execute_result"
    }
   ],
   "source": [
    "beta1"
   ]
  },
  {
   "cell_type": "code",
   "execution_count": 171,
   "metadata": {},
   "outputs": [
    {
     "data": {
      "image/png": "[encoded data removed]",
      "text/plain": [
       "<Figure size 432x288 with 1 Axes>"
      ]
     },
     "metadata": {
      "needs_background": "light"
     },
     "output_type": "display_data"
    }
   ],
   "source": [
    "for i in range(X.shape[0]):\n",
    "        if y[i, 0] == 0:\n",
    "            plt.plot(X[i,0], X[i,1], 'r+')\n",
    "\n",
    "        else:\n",
    "            plt.plot(X[i,0], X[i,1], 'bo')\n",
    "plt.plot([0.1, 0.9], [newton_left, newton_right], 'g-', label='Newton method')\n",
    "plt.legend()\n",
    "\n",
    "plt.xlabel('density')\n",
    "plt.ylabel('sugar rate')\n",
    "plt.title(\"Logistic Regression\")\n",
    "plt.show()"
   ]
  },
  {
   "cell_type": "markdown",
   "metadata": {},
   "source": [
    "## 梯度下降法"
   ]
  },
  {
   "cell_type": "code",
   "execution_count": 172,
   "metadata": {},
   "outputs": [],
   "source": [
    "def first_order(z, X, y):\n",
    "    p1 = np.exp(z) / (1+np.exp(z))\n",
    "    return -np.sum(X * (y - p1), 0, keepdims=True)\n",
    "\n",
    "def gradient_descent(X, y, step=0.01, tranning_times=5000):\n",
    "    step = 0.01\n",
    "    beta = np.zeros((1,3))\n",
    "    for i in range(tranning_times):\n",
    "        z = np.dot(X, beta.T)\n",
    "        gradient = first_order(z, X ,y)\n",
    "        beta = beta - step * gradient\n",
    "    return beta"
   ]
  },
  {
   "cell_type": "code",
   "execution_count": 173,
   "metadata": {},
   "outputs": [],
   "source": [
    "beta = gradient_descent(X, y)\n",
    "gradient_left = -( beta[0, 0]*0.1 + beta[0, 2] ) / beta[0, 1]\n",
    "gradient_right = -( beta[0, 0]*0.9 + beta[0, 2] ) / beta[0, 1] "
   ]
  },
  {
   "cell_type": "code",
   "execution_count": 175,
   "metadata": {},
   "outputs": [
    {
     "data": {
      "text/plain": [
       "array([[ 2.51184511,  9.46468379, -3.44947915]])"
      ]
     },
     "execution_count": 175,
     "metadata": {},
     "output_type": "execute_result"
    }
   ],
   "source": [
    "beta"
   ]
  },
  {
   "cell_type": "code",
   "execution_count": 174,
   "metadata": {},
   "outputs": [
    {
     "data": {
      "image/png": "[encoded data removed]",
      "text/plain": [
       "<Figure size 432x288 with 1 Axes>"
      ]
     },
     "metadata": {
      "needs_background": "light"
     },
     "output_type": "display_data"
    }
   ],
   "source": [
    "for i in range(X.shape[0]):\n",
    "        if y[i, 0] == 0:\n",
    "            plt.plot(X[i,0], X[i,1], 'r+')\n",
    "        else:\n",
    "            plt.plot(X[i,0], X[i,1], 'bo')\n",
    "plt.plot([0.1, 0.9], [gradient_left, gradient_right], 'g-', label='Gradient method')\n",
    "plt.legend()\n",
    "\n",
    "plt.xlabel('density')\n",
    "plt.ylabel('sugar rate')\n",
    "plt.title(\"Logistic Regression\")\n",
    "plt.show()"
   ]
  }
 ],
 "metadata": {
  "interpreter": {
   "hash": "2bb45ca145dd84afa5a2e5bb955686bc68f66372b94cd583e057dd628eb0acbe"
  },
  "kernelspec": {
   "display_name": "Python 3.9.7 ('ml-exercise3.3')",
   "language": "python",
   "name": "python3"
  },
  "language_info": {
   "codemirror_mode": {
    "name": "ipython",
    "version": 3
   },
   "file_extension": ".py",
   "mimetype": "text/x-python",
   "name": "python",
   "nbconvert_exporter": "python",
   "pygments_lexer": "ipython3",
   "version": "3.9.7"
  },
  "orig_nbformat": 4
 },
 "nbformat": 4,
 "nbformat_minor": 2
}
